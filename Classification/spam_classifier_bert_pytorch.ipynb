{
  "nbformat": 4,
  "nbformat_minor": 0,
  "metadata": {
    "colab": {
      "name": "Classification/spam_classifier_pytorch.ipynb",
      "provenance": [],
      "machine_shape": "hm",
      "authorship_tag": "ABX9TyOT6R3ZkJ+uPSNDUclFYKCl",
      "include_colab_link": true
    },
    "kernelspec": {
      "name": "python3",
      "display_name": "Python 3"
    },
    "accelerator": "GPU"
  },
  "cells": [
    {
      "cell_type": "markdown",
      "metadata": {
        "id": "view-in-github",
        "colab_type": "text"
      },
      "source": [
        "<a href=\"https://colab.research.google.com/github/mkaramib/NLP/blob/main/Classification/spam_classifier_pytorch.ipynb\" target=\"_parent\"><img src=\"https://colab.research.google.com/assets/colab-badge.svg\" alt=\"Open In Colab\"/></a>"
      ]
    },
    {
      "cell_type": "markdown",
      "metadata": {
        "id": "YsA5HVBY3L2d"
      },
      "source": [
        "# Spam Classifier \r\n",
        "In this colab, a spam classifier has been implemented using BERT and pytorch."
      ]
    },
    {
      "cell_type": "markdown",
      "metadata": {
        "id": "1q5RoMwR3cP-"
      },
      "source": [
        "## Libraries"
      ]
    },
    {
      "cell_type": "code",
      "metadata": {
        "id": "JbuMhe2k3EJu"
      },
      "source": [
        "# install transformers\r\n",
        "!pip install transformers==3.0.0"
      ],
      "execution_count": null,
      "outputs": []
    },
    {
      "cell_type": "code",
      "metadata": {
        "id": "pxorukJn3w2w"
      },
      "source": [
        "# import libraries\r\n",
        "import numpy as np\r\n",
        "import pandas as pd\r\n",
        "import torch\r\n",
        "import torch.nn as nn\r\n",
        "from sklearn.model_selection import train_test_split\r\n",
        "from sklearn.metrics import classification_report\r\n",
        "import transformers\r\n",
        "from transformers import AutoModel, BertTokenizerFast\r\n",
        "from torch.utils.data import TensorDataset, DataLoader, RandomSampler, SequentialSampler\r\n",
        "from transformers import AdamW   # hugging face transformers\r\n",
        "from sklearn.utils.class_weight import compute_class_weight\r\n",
        "\r\n",
        "\r\n",
        "# specify GPU\r\n",
        "device = torch.device(\"cuda\")"
      ],
      "execution_count": 3,
      "outputs": []
    },
    {
      "cell_type": "markdown",
      "metadata": {
        "id": "sNG2uZuE4ej1"
      },
      "source": [
        "## Data\r\n",
        "In this section, like most of ML application, the data set will be loaded. We use a spam data in a CSV file. "
      ]
    },
    {
      "cell_type": "code",
      "metadata": {
        "id": "3G214B734uhy"
      },
      "source": [
        "# load data in data-frame\r\n",
        "spam_df = pd.read_csv(\"./sample_data/spams_dataset.csv\")\r\n",
        "#spam_df.head()\r\n",
        "spam_df.shape"
      ],
      "execution_count": null,
      "outputs": []
    },
    {
      "cell_type": "code",
      "metadata": {
        "id": "tHNgF4dv_Wlw"
      },
      "source": [
        "# check the balance of data\r\n",
        "spam_df['label'].value_counts(normalize =True)"
      ],
      "execution_count": null,
      "outputs": []
    },
    {
      "cell_type": "markdown",
      "metadata": {
        "id": "5fiLQN8q_7r3"
      },
      "source": [
        "### Data Split\r\n",
        "In this section, we will split the data into the train, validation, and test set using sklean library."
      ]
    },
    {
      "cell_type": "code",
      "metadata": {
        "id": "FRyqJINSAMDU"
      },
      "source": [
        "# step 1: split into train and non-train data-sets.\r\n",
        "train_text, other_text, train_labels, other_labels = train_test_split(spam_df['text'], spam_df['label'], \r\n",
        "                                                                    random_state=2020, \r\n",
        "                                                                    test_size=0.3, \r\n",
        "                                                                    stratify=spam_df['label'])\r\n",
        "\r\n",
        "# step 2: split the other sets intp validation and test sets\r\n",
        "val_text, test_text, val_labels, test_labels = train_test_split(other_text, other_labels, \r\n",
        "                                                                random_state=2020, \r\n",
        "                                                                test_size=0.5, \r\n",
        "                                                                stratify=other_labels)"
      ],
      "execution_count": 6,
      "outputs": []
    },
    {
      "cell_type": "markdown",
      "metadata": {
        "id": "6wEcS4c0De7H"
      },
      "source": [
        "## Bert Model\r\n",
        "In this section, we need to import the BERT model. \r\n"
      ]
    },
    {
      "cell_type": "markdown",
      "metadata": {
        "id": "gknOJ2QZZvTn"
      },
      "source": [
        "### Import BERT\r\n"
      ]
    },
    {
      "cell_type": "code",
      "metadata": {
        "id": "YmYSizxwDkbt"
      },
      "source": [
        "# import BERT-base pretrained model\r\n",
        "bert = AutoModel.from_pretrained('bert-base-uncased')\r\n",
        "\r\n",
        "# Load the BERT tokenizer\r\n",
        "tokenizer = BertTokenizerFast.from_pretrained('bert-base-uncased')"
      ],
      "execution_count": null,
      "outputs": []
    },
    {
      "cell_type": "markdown",
      "metadata": {
        "id": "TGtkhIEYF1pm"
      },
      "source": [
        "### Tokenization\r\n",
        "In this section, we show how to use BERT for tokenization."
      ]
    },
    {
      "cell_type": "markdown",
      "metadata": {
        "id": "LExaS8unHUqC"
      },
      "source": [
        "#### Samples\r\n",
        "In this section, we show the tokenization for sample sentences."
      ]
    },
    {
      "cell_type": "code",
      "metadata": {
        "id": "LbbpbNQ_F8rA"
      },
      "source": [
        "# sample data\r\n",
        "samples = [\"this is a bert model tutorial.\", \"we will fine-tune a bert model.\", \"bert model is the most well known models in NLP.\"]\r\n",
        "\r\n",
        "# encode text\r\n",
        "samples_ids = tokenizer.batch_encode_plus(samples, padding=True, return_token_type_ids=False)\r\n",
        "\r\n",
        "# print ids\r\n",
        "print(samples_ids)"
      ],
      "execution_count": null,
      "outputs": []
    },
    {
      "cell_type": "markdown",
      "metadata": {
        "id": "vG8Pl4_FHdjm"
      },
      "source": [
        "#### Max Length sequence\r\n",
        "We need to find the maximum length of train samples."
      ]
    },
    {
      "cell_type": "code",
      "metadata": {
        "id": "2gL7pC4bGdwy"
      },
      "source": [
        "# get length of all the messages in the train set\r\n",
        "train_lengths = [len(sample.split()) for sample in train_text]\r\n",
        "\r\n",
        "# plot the histogram of length of trian samples\r\n",
        "pd.Series(train_lengths).hist(bins = 40)\r\n",
        "\r\n",
        "# find actual max length\r\n",
        "max_l = max(train_lengths)\r\n",
        "print(max_l)"
      ],
      "execution_count": null,
      "outputs": []
    },
    {
      "cell_type": "markdown",
      "metadata": {
        "id": "BkJb0xq-IfSb"
      },
      "source": [
        "Although the maximum length of training samples is 125, but we can define a pre-defined max length for padding. We will assign a smaller value for the max-length for padding. \r\n",
        "If we do not define it, it will pad to the longest in the sequence."
      ]
    },
    {
      "cell_type": "code",
      "metadata": {
        "id": "FzzlbTpoIyPL"
      },
      "source": [
        "# define a max-legnth for padding\r\n",
        "max_seq_lenght = 30"
      ],
      "execution_count": 10,
      "outputs": []
    },
    {
      "cell_type": "markdown",
      "metadata": {
        "id": "A86XIdRvIxdC"
      },
      "source": [
        "#### Data Set Tokenization\r\n",
        "In this step, we will tokenize the traing, validation, and test sets."
      ]
    },
    {
      "cell_type": "code",
      "metadata": {
        "id": "_dxDwKhBJDoR"
      },
      "source": [
        "# tokenize and encode sequences in the training set\r\n",
        "train_tokens = tokenizer.batch_encode_plus(\r\n",
        "    train_text.tolist(),\r\n",
        "    #max_length = max_seq_lenght,\r\n",
        "    padding =True, # or padding = 'longest'\r\n",
        "    # padding = 'max_length'   # in the case using pre-defined max-legnth\r\n",
        "    return_token_type_ids=False\r\n",
        ")\r\n",
        "\r\n",
        "# tokenize and encode sequences in the validation set\r\n",
        "val_tekens = tokenizer.batch_encode_plus(\r\n",
        "    val_text.tolist(),\r\n",
        "    padding =True, # or padding = 'longest'\r\n",
        "    return_token_type_ids=False\r\n",
        ")\r\n",
        "\r\n",
        "# tokenize and encode sequences in the test set\r\n",
        "test_tokens = tokenizer.batch_encode_plus(\r\n",
        "    test_text.tolist(),\r\n",
        "    padding =True, # or padding = 'longest'\r\n",
        "    return_token_type_ids=False\r\n",
        ")"
      ],
      "execution_count": 11,
      "outputs": []
    },
    {
      "cell_type": "code",
      "metadata": {
        "id": "dY3ZVOGWKyeY"
      },
      "source": [
        "train_tokens[0]"
      ],
      "execution_count": null,
      "outputs": []
    },
    {
      "cell_type": "markdown",
      "metadata": {
        "id": "RtgvZtBYKdST"
      },
      "source": [
        "### Build Tensors\r\n",
        "After tokenization(generating vectors or samples), we need to convert their sequences which are integers into Tensors."
      ]
    },
    {
      "cell_type": "code",
      "metadata": {
        "id": "8CRgwr6uZ8Ew"
      },
      "source": [
        "# Build tensors of train data\r\n",
        "train_seq = torch.tensor(train_tokens['input_ids'])\r\n",
        "train_mask = torch.tensor(train_tokens['attention_mask'])\r\n",
        "train_y = torch.tensor(train_labels.tolist())\r\n",
        "\r\n",
        "# Build tensors of validation data\r\n",
        "val_seq = torch.tensor(val_tekens['input_ids'])\r\n",
        "val_mask = torch.tensor(val_tekens['attention_mask'])\r\n",
        "val_y = torch.tensor(val_labels.tolist())\r\n",
        "\r\n",
        "# Build tensors of test data\r\n",
        "test_seq = torch.tensor(test_tokens['input_ids'])\r\n",
        "test_mask = torch.tensor(test_tokens['attention_mask'])\r\n",
        "test_y = torch.tensor(test_labels.tolist())"
      ],
      "execution_count": 13,
      "outputs": []
    },
    {
      "cell_type": "markdown",
      "metadata": {
        "id": "qIjfFFNBbIo3"
      },
      "source": [
        "### Build Data Loaders\r\n"
      ]
    },
    {
      "cell_type": "code",
      "metadata": {
        "id": "747AWIvGbUyh"
      },
      "source": [
        "#define a batch size\r\n",
        "batch_size = 32\r\n",
        "\r\n",
        "# wrap tensors\r\n",
        "train_data = TensorDataset(train_seq, train_mask, train_y)\r\n",
        "\r\n",
        "# sampler for sampling the data during training\r\n",
        "train_sampler = RandomSampler(train_data)\r\n",
        "\r\n",
        "# dataLoader for train set\r\n",
        "train_dataloader = DataLoader(train_data, sampler=train_sampler, batch_size=batch_size)\r\n",
        "\r\n",
        "# wrap tensors\r\n",
        "val_data = TensorDataset(val_seq, val_mask, val_y)\r\n",
        "\r\n",
        "# sampler for sampling the data during training\r\n",
        "val_sampler = SequentialSampler(val_data)\r\n",
        "\r\n",
        "# dataLoader for validation set\r\n",
        "val_dataloader = DataLoader(val_data, sampler = val_sampler, batch_size=batch_size)"
      ],
      "execution_count": 14,
      "outputs": []
    },
    {
      "cell_type": "markdown",
      "metadata": {
        "id": "AFIsJBznbpaG"
      },
      "source": [
        "### BERT Fine Tune\r\n",
        "In this section, required steps will be followed for fine tuning the BERT.\r\n",
        "\r\n",
        "1.   Freezing BERT parameters\r\n",
        "2.   Define Model Architecture\r\n",
        "3.   Find Class Weights\r\n",
        "4.   Fine-Tune process\r\n",
        "5.   Train The model\r\n",
        "\r\n"
      ]
    },
    {
      "cell_type": "markdown",
      "metadata": {
        "id": "304a4SGWcm_C"
      },
      "source": [
        "#### Step 1: Freezing BERT parameters"
      ]
    },
    {
      "cell_type": "code",
      "metadata": {
        "id": "dAfVOXKbcr9h"
      },
      "source": [
        "# freeze all the parameters\r\n",
        "for param in bert.parameters():\r\n",
        "    param.requires_grad = False"
      ],
      "execution_count": 15,
      "outputs": []
    },
    {
      "cell_type": "markdown",
      "metadata": {
        "id": "SWi-8ROActfQ"
      },
      "source": [
        "#### Step 2: Define Model Architecture"
      ]
    },
    {
      "cell_type": "code",
      "metadata": {
        "id": "O1EGBic7cx67"
      },
      "source": [
        "class BERT_Arch(nn.Module):\r\n",
        "\r\n",
        "    def __init__(self, bert):\r\n",
        "      \r\n",
        "      super(BERT_Arch, self).__init__()\r\n",
        "\r\n",
        "      self.bert = bert \r\n",
        "      \r\n",
        "      # dropout layer\r\n",
        "      self.dropout = nn.Dropout(0.1)\r\n",
        "      \r\n",
        "      # relu activation function\r\n",
        "      self.relu =  nn.ReLU()\r\n",
        "\r\n",
        "      # dense layer 1\r\n",
        "      self.fc1 = nn.Linear(768,512)\r\n",
        "      \r\n",
        "      # dense layer 2 (Output layer)\r\n",
        "      self.fc2 = nn.Linear(512,2)\r\n",
        "\r\n",
        "      #softmax activation function\r\n",
        "      self.softmax = nn.LogSoftmax(dim=1)\r\n",
        "\r\n",
        "    #define the forward pass\r\n",
        "    def forward(self, sent_id, mask):\r\n",
        "\r\n",
        "      #pass the inputs to the model  \r\n",
        "      _, cls_hs = self.bert(sent_id, attention_mask=mask)\r\n",
        "      \r\n",
        "      x = self.fc1(cls_hs)\r\n",
        "\r\n",
        "      x = self.relu(x)\r\n",
        "\r\n",
        "      x = self.dropout(x)\r\n",
        "\r\n",
        "      # output layer\r\n",
        "      x = self.fc2(x)\r\n",
        "      \r\n",
        "      # apply softmax activation\r\n",
        "      x = self.softmax(x)\r\n",
        "\r\n",
        "      return x"
      ],
      "execution_count": 16,
      "outputs": []
    },
    {
      "cell_type": "code",
      "metadata": {
        "id": "b9-5LMq2btZI"
      },
      "source": [
        "# pass the pre-trained BERT to our define architecture\r\n",
        "model = BERT_Arch(bert)\r\n",
        "\r\n",
        "# push the model to GPU\r\n",
        "model = model.to(device)\r\n",
        "\r\n",
        "# define the optimizer\r\n",
        "optimizer = AdamW(model.parameters(), lr = 1e-3)"
      ],
      "execution_count": 17,
      "outputs": []
    },
    {
      "cell_type": "code",
      "metadata": {
        "id": "dcqADuo3hKzQ"
      },
      "source": [
        "print(model)"
      ],
      "execution_count": null,
      "outputs": []
    },
    {
      "cell_type": "markdown",
      "metadata": {
        "id": "m8QyDnoneE0z"
      },
      "source": [
        "#### Step 3: Find Class Weights"
      ]
    },
    {
      "cell_type": "code",
      "metadata": {
        "colab": {
          "base_uri": "https://localhost:8080/"
        },
        "id": "sdV0UVy-eI8r",
        "outputId": "020aaaf5-6c0c-4f98-f44a-ebe560b4fc56"
      },
      "source": [
        "#compute the class weights\r\n",
        "class_wts = compute_class_weight('balanced', np.unique(train_labels), train_labels)\r\n",
        "\r\n",
        "print(class_wts)"
      ],
      "execution_count": 19,
      "outputs": [
        {
          "output_type": "stream",
          "text": [
            "[0.57743559 3.72848948]\n"
          ],
          "name": "stdout"
        }
      ]
    },
    {
      "cell_type": "code",
      "metadata": {
        "id": "64X_2YVbeXxr"
      },
      "source": [
        "# convert class weights to tensor\r\n",
        "weights= torch.tensor(class_wts,dtype=torch.float)\r\n",
        "weights = weights.to(device)\r\n",
        "\r\n",
        "# loss function\r\n",
        "cross_entropy  = nn.NLLLoss(weight=weights) \r\n",
        "\r\n",
        "# number of training epochs\r\n",
        "epochs = 10"
      ],
      "execution_count": 20,
      "outputs": []
    },
    {
      "cell_type": "markdown",
      "metadata": {
        "id": "WcYAGAuBev_J"
      },
      "source": [
        "#### Step 4: Fine-Tune process"
      ]
    },
    {
      "cell_type": "code",
      "metadata": {
        "id": "WSMYeSKBe3uW"
      },
      "source": [
        "# function to train the model\r\n",
        "def train():\r\n",
        "  \r\n",
        "  model.train()\r\n",
        "\r\n",
        "  total_loss, total_accuracy = 0, 0\r\n",
        "  \r\n",
        "  # empty list to save model predictions\r\n",
        "  total_preds=[]\r\n",
        "  \r\n",
        "  # iterate over batches\r\n",
        "  for step,batch in enumerate(train_dataloader):\r\n",
        "    \r\n",
        "    # progress update after every 50 batches.\r\n",
        "    if step % 50 == 0 and not step == 0:\r\n",
        "      print('  Batch {:>5,}  of  {:>5,}.'.format(step, len(train_dataloader)))\r\n",
        "\r\n",
        "    # push the batch to gpu\r\n",
        "    batch = [r.to(device) for r in batch]\r\n",
        " \r\n",
        "    sent_id, mask, labels = batch\r\n",
        "\r\n",
        "    # clear previously calculated gradients \r\n",
        "    model.zero_grad()        \r\n",
        "\r\n",
        "    # get model predictions for the current batch\r\n",
        "    preds = model(sent_id, mask)\r\n",
        "\r\n",
        "    # compute the loss between actual and predicted values\r\n",
        "    loss = cross_entropy(preds, labels)\r\n",
        "\r\n",
        "    # add on to the total loss\r\n",
        "    total_loss = total_loss + loss.item()\r\n",
        "\r\n",
        "    # backward pass to calculate the gradients\r\n",
        "    loss.backward()\r\n",
        "\r\n",
        "    # clip the the gradients to 1.0. It helps in preventing the exploding gradient problem\r\n",
        "    torch.nn.utils.clip_grad_norm_(model.parameters(), 1.0)\r\n",
        "\r\n",
        "    # update parameters\r\n",
        "    optimizer.step()\r\n",
        "\r\n",
        "    # model predictions are stored on GPU. So, push it to CPU\r\n",
        "    preds=preds.detach().cpu().numpy()\r\n",
        "\r\n",
        "    # append the model predictions\r\n",
        "    total_preds.append(preds)\r\n",
        "\r\n",
        "  # compute the training loss of the epoch\r\n",
        "  avg_loss = total_loss / len(train_dataloader)\r\n",
        "  \r\n",
        "  # predictions are in the form of (no. of batches, size of batch, no. of classes).\r\n",
        "  # reshape the predictions in form of (number of samples, no. of classes)\r\n",
        "  total_preds  = np.concatenate(total_preds, axis=0)\r\n",
        "\r\n",
        "  #returns the loss and predictions\r\n",
        "  return avg_loss, total_preds"
      ],
      "execution_count": 21,
      "outputs": []
    },
    {
      "cell_type": "code",
      "metadata": {
        "id": "tgNjldZKfGOu"
      },
      "source": [
        "# function for evaluating the model\r\n",
        "def evaluate():\r\n",
        "  \r\n",
        "  print(\"\\nEvaluating...\")\r\n",
        "  \r\n",
        "  # deactivate dropout layers\r\n",
        "  model.eval()\r\n",
        "\r\n",
        "  total_loss, total_accuracy = 0, 0\r\n",
        "  \r\n",
        "  # empty list to save the model predictions\r\n",
        "  total_preds = []\r\n",
        "\r\n",
        "  # iterate over batches\r\n",
        "  for step,batch in enumerate(val_dataloader):\r\n",
        "    \r\n",
        "    # Progress update every 50 batches.\r\n",
        "    if step % 50 == 0 and not step == 0:\r\n",
        "      \r\n",
        "      # Calculate elapsed time in minutes.\r\n",
        "      elapsed = format_time(time.time() - t0)\r\n",
        "            \r\n",
        "      # Report progress.\r\n",
        "      print('  Batch {:>5,}  of  {:>5,}.'.format(step, len(val_dataloader)))\r\n",
        "\r\n",
        "    # push the batch to gpu\r\n",
        "    batch = [t.to(device) for t in batch]\r\n",
        "\r\n",
        "    sent_id, mask, labels = batch\r\n",
        "\r\n",
        "    # deactivate autograd\r\n",
        "    with torch.no_grad():\r\n",
        "      \r\n",
        "      # model predictions\r\n",
        "      preds = model(sent_id, mask)\r\n",
        "\r\n",
        "      # compute the validation loss between actual and predicted values\r\n",
        "      loss = cross_entropy(preds,labels)\r\n",
        "\r\n",
        "      total_loss = total_loss + loss.item()\r\n",
        "\r\n",
        "      preds = preds.detach().cpu().numpy()\r\n",
        "\r\n",
        "      total_preds.append(preds)\r\n",
        "\r\n",
        "  # compute the validation loss of the epoch\r\n",
        "  avg_loss = total_loss / len(val_dataloader) \r\n",
        "\r\n",
        "  # reshape the predictions in form of (number of samples, no. of classes)\r\n",
        "  total_preds  = np.concatenate(total_preds, axis=0)\r\n",
        "\r\n",
        "  return avg_loss, total_preds"
      ],
      "execution_count": 22,
      "outputs": []
    },
    {
      "cell_type": "markdown",
      "metadata": {
        "id": "rFH_mP_4fLW7"
      },
      "source": [
        "#### Step 5: Train the model"
      ]
    },
    {
      "cell_type": "code",
      "metadata": {
        "id": "ljEfOIIffQHH"
      },
      "source": [
        "# set initial loss to infinite\r\n",
        "best_valid_loss = float('inf')\r\n",
        "\r\n",
        "# empty lists to store training and validation loss of each epoch\r\n",
        "train_losses=[]\r\n",
        "valid_losses=[]\r\n",
        "\r\n",
        "#for each epoch\r\n",
        "for epoch in range(epochs):\r\n",
        "     \r\n",
        "    print('\\n Epoch {:} / {:}'.format(epoch + 1, epochs))\r\n",
        "    \r\n",
        "    #train model\r\n",
        "    train_loss, _ = train()\r\n",
        "    \r\n",
        "    #evaluate model\r\n",
        "    valid_loss, _ = evaluate()\r\n",
        "    \r\n",
        "    #save the best model\r\n",
        "    if valid_loss < best_valid_loss:\r\n",
        "        best_valid_loss = valid_loss\r\n",
        "        torch.save(model.state_dict(), 'saved_weights.pt')\r\n",
        "    \r\n",
        "    # append training and validation loss\r\n",
        "    train_losses.append(train_loss)\r\n",
        "    valid_losses.append(valid_loss)\r\n",
        "    \r\n",
        "    print(f'\\nTraining Loss: {train_loss:.3f}')\r\n",
        "    print(f'Validation Loss: {valid_loss:.3f}')"
      ],
      "execution_count": null,
      "outputs": []
    },
    {
      "cell_type": "markdown",
      "metadata": {
        "id": "KhXQiY_7k_s5"
      },
      "source": [
        "### Load Trained Model"
      ]
    },
    {
      "cell_type": "code",
      "metadata": {
        "id": "69AgTja7lEc9"
      },
      "source": [
        "#load weights of best model\r\n",
        "path = 'saved_weights.pt'\r\n",
        "model.load_state_dict(torch.load(path))"
      ],
      "execution_count": null,
      "outputs": []
    },
    {
      "cell_type": "markdown",
      "metadata": {
        "id": "42mMfbAllHwT"
      },
      "source": [
        "### Evaluate Model\r\n",
        "In this section, the trained model will be evaluated."
      ]
    },
    {
      "cell_type": "code",
      "metadata": {
        "id": "IdpXqRhflPFw"
      },
      "source": [
        "# get predictions for test data\r\n",
        "with torch.no_grad():\r\n",
        "  preds = model(test_seq.to(device), test_mask.to(device))\r\n",
        "  preds = preds.detach().cpu().numpy()"
      ],
      "execution_count": 25,
      "outputs": []
    },
    {
      "cell_type": "markdown",
      "metadata": {
        "id": "AhuVCXuXlXDo"
      },
      "source": [
        "The following part will analyze the performance."
      ]
    },
    {
      "cell_type": "code",
      "metadata": {
        "id": "DO3Gyrtulcy0"
      },
      "source": [
        "# model's performance\r\n",
        "preds = np.argmax(preds, axis = 1)\r\n",
        "print(classification_report(test_y, preds))"
      ],
      "execution_count": null,
      "outputs": []
    },
    {
      "cell_type": "markdown",
      "metadata": {
        "id": "ylFbOxOkljsh"
      },
      "source": [
        "The following code will printout the confusion matrix."
      ]
    },
    {
      "cell_type": "code",
      "metadata": {
        "id": "0ld9ETcKln2Z"
      },
      "source": [
        "# confusion matrix\r\n",
        "pd.crosstab(test_y, preds)"
      ],
      "execution_count": null,
      "outputs": []
    }
  ]
}
