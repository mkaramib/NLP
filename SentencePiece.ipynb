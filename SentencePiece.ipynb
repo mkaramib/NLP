{
  "nbformat": 4,
  "nbformat_minor": 0,
  "metadata": {
    "colab": {
      "name": "SentencePiece.ipynb",
      "provenance": [],
      "toc_visible": true,
      "authorship_tag": "ABX9TyOxxhaVMOveTCXbPm5UA4Fw",
      "include_colab_link": true
    },
    "kernelspec": {
      "name": "python3",
      "display_name": "Python 3"
    }
  },
  "cells": [
    {
      "cell_type": "markdown",
      "metadata": {
        "id": "view-in-github",
        "colab_type": "text"
      },
      "source": [
        "<a href=\"https://colab.research.google.com/github/mkaramib/nlp/blob/main/SentencePiece.ipynb\" target=\"_parent\"><img src=\"https://colab.research.google.com/assets/colab-badge.svg\" alt=\"Open In Colab\"/></a>"
      ]
    },
    {
      "cell_type": "markdown",
      "metadata": {
        "id": "PPr01MQUUoUL"
      },
      "source": [
        "# SentencePiece\r\n",
        "SentencePiece is a library that provides the tokenization at the sub-word levels. "
      ]
    },
    {
      "cell_type": "markdown",
      "metadata": {
        "id": "l6J0Zeh4qMSi"
      },
      "source": [
        "## Segmentation Algorithms\r\n",
        "It is able to be trained using 3 main popular algorithms. "
      ]
    },
    {
      "cell_type": "markdown",
      "metadata": {
        "id": "29AC3RqpnLZP"
      },
      "source": [
        "### BPE\r\n",
        "Byte Pair Encoding (BPE) is an algorihtm based on the next highest frequent pair which is proposed by Sennrich et al. (2016). This algorithm has been customized and adopted in GPT-2. \r\n",
        "\r\n",
        "**Algorithm**:\r\n",
        "1. Prepare a large enough training data (i.e. corpus)\r\n",
        "2. Define a desired subword vocabulary size\r\n",
        "3. Split word to sequence of characters and appending suffix “</w>” to end of word with word frequency. So the basic unit is character in this stage. For example, the frequency of “low” is 5, then we rephrase it to “l o w </w>”: 5\r\n",
        "4. Generating a new subword according to the high frequency occurrence.\r\n",
        "5. Repeating step 4 until reaching subword vocabulary size which is defined in step 2 or the next highest frequency pair is 1."
      ]
    },
    {
      "cell_type": "markdown",
      "metadata": {
        "id": "pJZKY0iloVCu"
      },
      "source": [
        "### WordPiece\r\n",
        "WordPiece is a segmentation algorithm based on the *liklihood* that is propsoed by Schuster and Nakajima in 2012. \r\n",
        "\r\n",
        "**Algorithm**: \r\n",
        "1. Prepare a large enough training data (i.e. corpus)\r\n",
        "2. Define a desired subword vocabulary size\r\n",
        "3. Split word to sequence of characters\r\n",
        "4. Build a languages model based on step 3 data\r\n",
        "5. Choose the new word unit out of all the possible ones that increases the likelihood on the training data the most when added to the model.\r\n",
        "6. Repeating step 5until reaching subword vocabulary size which is defined in step 2 or the likelihood increase falls below a certain threshold.\r\n",
        "\r\n",
        "\r\n"
      ]
    },
    {
      "cell_type": "markdown",
      "metadata": {
        "id": "WdPvUyHHpSgU"
      },
      "source": [
        "### Unigram Language Model\r\n",
        "Unigram language model is another algorithm for subword segmentation which is proposed by Kudo. One of the assumption is all subword occurrence are independently and subword sequence is produced by the product of subword occurrence probabilities. Like the WordPiece, the Unigram Language Model employs the concept of languages model to build subword vocabulary.\r\n",
        "\r\n",
        "**Algorithm**\r\n",
        "1. Prepare a large enough training data (i.e. corpus)\r\n",
        "2. Define a desired subword vocabulary size\r\n",
        "3. Optimize the probability of word occurrence by giving a word sequence.\r\n",
        "4. Compute the loss of each subword\r\n",
        "5. Sort the symbol by loss and keep top X % of word (e.g. X can be 80). To avoid out-of-vocabulary, character level is recommend to be included as subset of subword.\r\n",
        "6. Repeating step 3–5until reaching subword vocabulary size which is defined in step 2 or no change in step 5."
      ]
    },
    {
      "cell_type": "markdown",
      "metadata": {
        "id": "FveV92PWqHba"
      },
      "source": [
        "## Train Model\r\n",
        "Sentencepiece can be trained using any of above algorithms. It needs following inputs as argument to train a model:\r\n",
        "1.  Training Content: defined in *--input=train.txt*\r\n",
        "2.  Model File name: defined in *--model_prefix=m*\r\n",
        "    * *m* means the result model name will be m.model\r\n",
        "3.  Model Type: defined in *--model_type*\r\n",
        "    * default is Unigram Language Model\r\n",
        "    * *--model_type=bpe* will train a BPE model\r\n",
        "4. Vocab Size: defined by *--vocab_size=100*\r\n",
        "\r\n",
        "\r\n",
        "\r\n"
      ]
    },
    {
      "cell_type": "code",
      "metadata": {
        "colab": {
          "base_uri": "https://localhost:8080/"
        },
        "id": "NayYE8AnUkDx",
        "outputId": "6b1b08e9-fd9d-4e0e-8d04-20ce6a861356"
      },
      "source": [
        "# install sentencepiece\r\n",
        "!pip install sentencepiece\r\n",
        "\r\n",
        "model_dir = \"./data/model/\"\r\n",
        "\r\n",
        "\r\n",
        "# import the SentencePiece and its model\r\n",
        "import sentencepiece as spm\r\n",
        "sp = spm.SentencePieceProcessor(model_file=model_dir+'sentencepiece.model')\r\n",
        "\r\n",
        "# test the model\r\n",
        "s0 = \"Machine learning is interesting area and it is growing fast.\"\r\n",
        "\r\n",
        "# encode: text => id\r\n",
        "print(sp.encode_as_pieces(s0))\r\n",
        "print(sp.encode_as_ids(s0))\r\n",
        "\r\n",
        "# decode: id => text\r\n",
        "#print(sp.decode_pieces(sp.encode_as_pieces(s0)))\r\n",
        "#print(sp.decode_ids([12847, 277]))\r\n"
      ],
      "execution_count": null,
      "outputs": [
        {
          "output_type": "stream",
          "text": [
            "Collecting sentencepiece\n",
            "\u001b[?25l  Downloading https://files.pythonhosted.org/packages/e5/2d/6d4ca4bef9a67070fa1cac508606328329152b1df10bdf31fb6e4e727894/sentencepiece-0.1.94-cp36-cp36m-manylinux2014_x86_64.whl (1.1MB)\n",
            "\r\u001b[K     |▎                               | 10kB 17.7MB/s eta 0:00:01\r\u001b[K     |▋                               | 20kB 20.0MB/s eta 0:00:01\r\u001b[K     |▉                               | 30kB 4.9MB/s eta 0:00:01\r\u001b[K     |█▏                              | 40kB 5.4MB/s eta 0:00:01\r\u001b[K     |█▌                              | 51kB 5.9MB/s eta 0:00:01\r\u001b[K     |█▊                              | 61kB 6.5MB/s eta 0:00:01\r\u001b[K     |██                              | 71kB 7.0MB/s eta 0:00:01\r\u001b[K     |██▍                             | 81kB 6.0MB/s eta 0:00:01\r\u001b[K     |██▋                             | 92kB 5.8MB/s eta 0:00:01\r\u001b[K     |███                             | 102kB 6.3MB/s eta 0:00:01\r\u001b[K     |███▎                            | 112kB 6.3MB/s eta 0:00:01\r\u001b[K     |███▌                            | 122kB 6.3MB/s eta 0:00:01\r\u001b[K     |███▉                            | 133kB 6.3MB/s eta 0:00:01\r\u001b[K     |████▏                           | 143kB 6.3MB/s eta 0:00:01\r\u001b[K     |████▍                           | 153kB 6.3MB/s eta 0:00:01\r\u001b[K     |████▊                           | 163kB 6.3MB/s eta 0:00:01\r\u001b[K     |█████                           | 174kB 6.3MB/s eta 0:00:01\r\u001b[K     |█████▎                          | 184kB 6.3MB/s eta 0:00:01\r\u001b[K     |█████▋                          | 194kB 6.3MB/s eta 0:00:01\r\u001b[K     |█████▉                          | 204kB 6.3MB/s eta 0:00:01\r\u001b[K     |██████▏                         | 215kB 6.3MB/s eta 0:00:01\r\u001b[K     |██████▌                         | 225kB 6.3MB/s eta 0:00:01\r\u001b[K     |██████▊                         | 235kB 6.3MB/s eta 0:00:01\r\u001b[K     |███████                         | 245kB 6.3MB/s eta 0:00:01\r\u001b[K     |███████▍                        | 256kB 6.3MB/s eta 0:00:01\r\u001b[K     |███████▋                        | 266kB 6.3MB/s eta 0:00:01\r\u001b[K     |████████                        | 276kB 6.3MB/s eta 0:00:01\r\u001b[K     |████████▎                       | 286kB 6.3MB/s eta 0:00:01\r\u001b[K     |████████▌                       | 296kB 6.3MB/s eta 0:00:01\r\u001b[K     |████████▉                       | 307kB 6.3MB/s eta 0:00:01\r\u001b[K     |█████████                       | 317kB 6.3MB/s eta 0:00:01\r\u001b[K     |█████████▍                      | 327kB 6.3MB/s eta 0:00:01\r\u001b[K     |█████████▊                      | 337kB 6.3MB/s eta 0:00:01\r\u001b[K     |██████████                      | 348kB 6.3MB/s eta 0:00:01\r\u001b[K     |██████████▎                     | 358kB 6.3MB/s eta 0:00:01\r\u001b[K     |██████████▋                     | 368kB 6.3MB/s eta 0:00:01\r\u001b[K     |██████████▉                     | 378kB 6.3MB/s eta 0:00:01\r\u001b[K     |███████████▏                    | 389kB 6.3MB/s eta 0:00:01\r\u001b[K     |███████████▌                    | 399kB 6.3MB/s eta 0:00:01\r\u001b[K     |███████████▊                    | 409kB 6.3MB/s eta 0:00:01\r\u001b[K     |████████████                    | 419kB 6.3MB/s eta 0:00:01\r\u001b[K     |████████████▍                   | 430kB 6.3MB/s eta 0:00:01\r\u001b[K     |████████████▋                   | 440kB 6.3MB/s eta 0:00:01\r\u001b[K     |█████████████                   | 450kB 6.3MB/s eta 0:00:01\r\u001b[K     |█████████████▎                  | 460kB 6.3MB/s eta 0:00:01\r\u001b[K     |█████████████▌                  | 471kB 6.3MB/s eta 0:00:01\r\u001b[K     |█████████████▉                  | 481kB 6.3MB/s eta 0:00:01\r\u001b[K     |██████████████                  | 491kB 6.3MB/s eta 0:00:01\r\u001b[K     |██████████████▍                 | 501kB 6.3MB/s eta 0:00:01\r\u001b[K     |██████████████▊                 | 512kB 6.3MB/s eta 0:00:01\r\u001b[K     |███████████████                 | 522kB 6.3MB/s eta 0:00:01\r\u001b[K     |███████████████▎                | 532kB 6.3MB/s eta 0:00:01\r\u001b[K     |███████████████▋                | 542kB 6.3MB/s eta 0:00:01\r\u001b[K     |███████████████▉                | 552kB 6.3MB/s eta 0:00:01\r\u001b[K     |████████████████▏               | 563kB 6.3MB/s eta 0:00:01\r\u001b[K     |████████████████▌               | 573kB 6.3MB/s eta 0:00:01\r\u001b[K     |████████████████▊               | 583kB 6.3MB/s eta 0:00:01\r\u001b[K     |█████████████████               | 593kB 6.3MB/s eta 0:00:01\r\u001b[K     |█████████████████▍              | 604kB 6.3MB/s eta 0:00:01\r\u001b[K     |█████████████████▋              | 614kB 6.3MB/s eta 0:00:01\r\u001b[K     |██████████████████              | 624kB 6.3MB/s eta 0:00:01\r\u001b[K     |██████████████████▏             | 634kB 6.3MB/s eta 0:00:01\r\u001b[K     |██████████████████▌             | 645kB 6.3MB/s eta 0:00:01\r\u001b[K     |██████████████████▉             | 655kB 6.3MB/s eta 0:00:01\r\u001b[K     |███████████████████             | 665kB 6.3MB/s eta 0:00:01\r\u001b[K     |███████████████████▍            | 675kB 6.3MB/s eta 0:00:01\r\u001b[K     |███████████████████▊            | 686kB 6.3MB/s eta 0:00:01\r\u001b[K     |████████████████████            | 696kB 6.3MB/s eta 0:00:01\r\u001b[K     |████████████████████▎           | 706kB 6.3MB/s eta 0:00:01\r\u001b[K     |████████████████████▋           | 716kB 6.3MB/s eta 0:00:01\r\u001b[K     |████████████████████▉           | 727kB 6.3MB/s eta 0:00:01\r\u001b[K     |█████████████████████▏          | 737kB 6.3MB/s eta 0:00:01\r\u001b[K     |█████████████████████▌          | 747kB 6.3MB/s eta 0:00:01\r\u001b[K     |█████████████████████▊          | 757kB 6.3MB/s eta 0:00:01\r\u001b[K     |██████████████████████          | 768kB 6.3MB/s eta 0:00:01\r\u001b[K     |██████████████████████▎         | 778kB 6.3MB/s eta 0:00:01\r\u001b[K     |██████████████████████▋         | 788kB 6.3MB/s eta 0:00:01\r\u001b[K     |███████████████████████         | 798kB 6.3MB/s eta 0:00:01\r\u001b[K     |███████████████████████▏        | 808kB 6.3MB/s eta 0:00:01\r\u001b[K     |███████████████████████▌        | 819kB 6.3MB/s eta 0:00:01\r\u001b[K     |███████████████████████▉        | 829kB 6.3MB/s eta 0:00:01\r\u001b[K     |████████████████████████        | 839kB 6.3MB/s eta 0:00:01\r\u001b[K     |████████████████████████▍       | 849kB 6.3MB/s eta 0:00:01\r\u001b[K     |████████████████████████▊       | 860kB 6.3MB/s eta 0:00:01\r\u001b[K     |█████████████████████████       | 870kB 6.3MB/s eta 0:00:01\r\u001b[K     |█████████████████████████▎      | 880kB 6.3MB/s eta 0:00:01\r\u001b[K     |█████████████████████████▋      | 890kB 6.3MB/s eta 0:00:01\r\u001b[K     |█████████████████████████▉      | 901kB 6.3MB/s eta 0:00:01\r\u001b[K     |██████████████████████████▏     | 911kB 6.3MB/s eta 0:00:01\r\u001b[K     |██████████████████████████▌     | 921kB 6.3MB/s eta 0:00:01\r\u001b[K     |██████████████████████████▊     | 931kB 6.3MB/s eta 0:00:01\r\u001b[K     |███████████████████████████     | 942kB 6.3MB/s eta 0:00:01\r\u001b[K     |███████████████████████████▎    | 952kB 6.3MB/s eta 0:00:01\r\u001b[K     |███████████████████████████▋    | 962kB 6.3MB/s eta 0:00:01\r\u001b[K     |████████████████████████████    | 972kB 6.3MB/s eta 0:00:01\r\u001b[K     |████████████████████████████▏   | 983kB 6.3MB/s eta 0:00:01\r\u001b[K     |████████████████████████████▌   | 993kB 6.3MB/s eta 0:00:01\r\u001b[K     |████████████████████████████▉   | 1.0MB 6.3MB/s eta 0:00:01\r\u001b[K     |█████████████████████████████   | 1.0MB 6.3MB/s eta 0:00:01\r\u001b[K     |█████████████████████████████▍  | 1.0MB 6.3MB/s eta 0:00:01\r\u001b[K     |█████████████████████████████▊  | 1.0MB 6.3MB/s eta 0:00:01\r\u001b[K     |██████████████████████████████  | 1.0MB 6.3MB/s eta 0:00:01\r\u001b[K     |██████████████████████████████▎ | 1.1MB 6.3MB/s eta 0:00:01\r\u001b[K     |██████████████████████████████▋ | 1.1MB 6.3MB/s eta 0:00:01\r\u001b[K     |██████████████████████████████▉ | 1.1MB 6.3MB/s eta 0:00:01\r\u001b[K     |███████████████████████████████▏| 1.1MB 6.3MB/s eta 0:00:01\r\u001b[K     |███████████████████████████████▍| 1.1MB 6.3MB/s eta 0:00:01\r\u001b[K     |███████████████████████████████▊| 1.1MB 6.3MB/s eta 0:00:01\r\u001b[K     |████████████████████████████████| 1.1MB 6.3MB/s \n",
            "\u001b[?25hInstalling collected packages: sentencepiece\n",
            "Successfully installed sentencepiece-0.1.94\n",
            "['▁Machine', '▁learning', '▁is', '▁interesting', '▁area', '▁and', '▁it', '▁is', '▁growing', '▁fast', '.']\n",
            "[5879, 1036, 19, 1477, 616, 11, 34, 19, 1710, 1006, 5]\n"
          ],
          "name": "stdout"
        }
      ]
    }
  ]
}