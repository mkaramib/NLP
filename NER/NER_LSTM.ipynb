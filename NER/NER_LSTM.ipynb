{
  "nbformat": 4,
  "nbformat_minor": 0,
  "metadata": {
    "colab": {
      "name": "NER_LSTM.ipynb",
      "provenance": [],
      "toc_visible": true,
      "authorship_tag": "ABX9TyNJlS4/9x8KPTZCm2+5FnjK",
      "include_colab_link": true
    },
    "kernelspec": {
      "name": "python3",
      "display_name": "Python 3"
    }
  },
  "cells": [
    {
      "cell_type": "markdown",
      "metadata": {
        "id": "view-in-github",
        "colab_type": "text"
      },
      "source": [
        "<a href=\"https://colab.research.google.com/github/mkaramib/NLP/blob/main/NER/NER_LSTM.ipynb\" target=\"_parent\"><img src=\"https://colab.research.google.com/assets/colab-badge.svg\" alt=\"Open In Colab\"/></a>"
      ]
    },
    {
      "cell_type": "markdown",
      "metadata": {
        "id": "5QdENeRCon94"
      },
      "source": [
        "# Named Entity Recognition(NER)\r\n",
        "In this Jupyter notebook, a NER using LSTM will be implemented. I will use Trax as the development library. \r\n"
      ]
    },
    {
      "cell_type": "code",
      "metadata": {
        "id": "J7_8SZEroYy3"
      },
      "source": [
        "import os\r\n"
      ],
      "execution_count": null,
      "outputs": []
    },
    {
      "cell_type": "markdown",
      "metadata": {
        "id": "gq2jJ2fJI3RV"
      },
      "source": [
        "## Data\r\n",
        "This section loads the data such as sentences, tags, words, etc. "
      ]
    },
    {
      "cell_type": "code",
      "metadata": {
        "id": "0OKF5G29JD9-"
      },
      "source": [
        "# define corresponding files.\r\n",
        "sentences_file = \"sentence.txt\"\r\n",
        "labels_file = \"labels.txt\"\r\n",
        "word_file = \"words.txt\"\r\n",
        "tag_file = \"tags.txt\""
      ],
      "execution_count": null,
      "outputs": []
    },
    {
      "cell_type": "markdown",
      "metadata": {
        "id": "Y_waOw59Jhfs"
      },
      "source": [
        "### Sentences and Labels\r\n",
        "Sentences and corresponding sequence of NER labels are loaded. "
      ]
    },
    {
      "cell_type": "code",
      "metadata": {
        "id": "YmtO4yprJue1"
      },
      "source": [
        "def load_sentences(file):\r\n",
        "  "
      ],
      "execution_count": null,
      "outputs": []
    }
  ]
}