{
  "nbformat": 4,
  "nbformat_minor": 0,
  "metadata": {
    "colab": {
      "name": "tokenization.ipynb",
      "provenance": [],
      "toc_visible": true,
      "authorship_tag": "ABX9TyOx40Nto1+WAdr3Kfv2ITqD",
      "include_colab_link": true
    },
    "kernelspec": {
      "name": "python3",
      "display_name": "Python 3"
    }
  },
  "cells": [
    {
      "cell_type": "markdown",
      "metadata": {
        "id": "view-in-github",
        "colab_type": "text"
      },
      "source": [
        "<a href=\"https://colab.research.google.com/github/mkaramib/nlp/blob/main/tokenization.ipynb\" target=\"_parent\"><img src=\"https://colab.research.google.com/assets/colab-badge.svg\" alt=\"Open In Colab\"/></a>"
      ]
    },
    {
      "cell_type": "markdown",
      "metadata": {
        "id": "CBkB6vuOFM1F"
      },
      "source": [
        "# Tokenization\r\n",
        "Tokenization is the first key part of any NLP processes. In this notebook, various ways of tokenizations are explained. \r\n"
      ]
    },
    {
      "cell_type": "markdown",
      "metadata": {
        "id": "9aUaWDfpMnMW"
      },
      "source": [
        "## TensorFlow\r\n",
        "Tensorflow provides tokenization as the following:"
      ]
    },
    {
      "cell_type": "code",
      "metadata": {
        "id": "j2wRaaEAFGjP"
      },
      "source": [
        "import tensorflow as tf\r\n",
        "from tensorflow import keras\r\n",
        "from tensorflow.keras.preprocessing.text import Tokenizer"
      ],
      "execution_count": 1,
      "outputs": []
    },
    {
      "cell_type": "code",
      "metadata": {
        "id": "BdrLa_qOF6Io"
      },
      "source": [
        "# define some sentences\r\n",
        "train_sentences = ['This is a test sentence for tekonization.', 'Tensor flow provides tokenization.', 'Machine learning is growing rapidly.']\r\n",
        "\r\n",
        "# test sentences\r\n",
        "test_sentences = ['NLP is a filed of machine learning.']"
      ],
      "execution_count": 12,
      "outputs": []
    },
    {
      "cell_type": "code",
      "metadata": {
        "id": "ibKKdTYrGXnl"
      },
      "source": [
        "# instantiate tokenizar\r\n",
        "tokenizer = Tokenizer()\r\n",
        "\r\n",
        "# call the fit_on_texts and pass the sentences\r\n",
        "tokenizer.fit_on_texts(sentences)"
      ],
      "execution_count": 13,
      "outputs": []
    },
    {
      "cell_type": "markdown",
      "metadata": {
        "id": "N9njio4XMJFJ"
      },
      "source": [
        "## Word Indexes\r\n",
        "Tokenizer provides the attribute of *word_index* which provides the indexes assigned to the tokens in the training texts."
      ]
    },
    {
      "cell_type": "code",
      "metadata": {
        "colab": {
          "base_uri": "https://localhost:8080/"
        },
        "id": "zEiOVr0sHQ6K",
        "outputId": "82e8780f-c973-4bc9-dc64-23ba77893d51"
      },
      "source": [
        "# get word indices\r\n",
        "word_indices = tokenizer.word_index\r\n",
        "print(f'word indixes = {word_indices}')"
      ],
      "execution_count": 14,
      "outputs": [
        {
          "output_type": "stream",
          "text": [
            "word indixes = {'is': 1, 'this': 2, 'a': 3, 'test': 4, 'sentence': 5, 'for': 6, 'tekonization': 7, 'tensor': 8, 'flow': 9, 'provides': 10, 'tokenization': 11, 'machine': 12, 'learning': 13, 'growing': 14, 'rapidly': 15}\n"
          ],
          "name": "stdout"
        }
      ]
    },
    {
      "cell_type": "markdown",
      "metadata": {
        "id": "aNzjAAQfMhlK"
      },
      "source": [
        "## Vectorize the test\r\n",
        "Tokenizer provides some methods to vectorize the given text."
      ]
    },
    {
      "cell_type": "code",
      "metadata": {
        "colab": {
          "base_uri": "https://localhost:8080/"
        },
        "id": "7CcBWJHANAhK",
        "outputId": "467e4f82-2048-4556-9a54-fcde27208121"
      },
      "source": [
        "# vectorize the text(convert the given text into list of index)\r\n",
        "print(f'vectors of training_sentences = {tokenizer.texts_to_sequences(train_sentences)}')\r\n",
        "\r\n",
        "# vectorize the test sentences\r\n",
        "print(f'vectors of test sentences = {tokenizer.texts_to_sequences(test_sentences)}')"
      ],
      "execution_count": 18,
      "outputs": [
        {
          "output_type": "stream",
          "text": [
            "vectors of training_sentences = [[2, 1, 3, 4, 5, 6, 7], [8, 9, 10, 11], [12, 13, 1, 14, 15]]\n",
            "vectors of test sentences = [[1, 3, 12, 13]]\n"
          ],
          "name": "stdout"
        }
      ]
    },
    {
      "cell_type": "markdown",
      "metadata": {
        "id": "9s86_HKdGvXp"
      },
      "source": [
        "**Note 1:** if the content is long, we can only tokenize the most frequent terms using a *num_words* argument to the Tokenizer as the following:\r\n",
        "\r\n",
        "tokenizer = Tokenizer(num_words = 100)\r\n",
        "\r\n",
        "**Note 2:** Out Of Vocabulary (OOV) token is another issue in NLP processes that must be considered. Tensorflow provides an option to deal with it using *oov_token* argument of Tokenizer as the following:\r\n",
        "\r\n",
        "tokenizer = Tokenizer(oov_token='<OOV>')\r\n"
      ]
    },
    {
      "cell_type": "code",
      "metadata": {
        "id": "zq4APLgJIh6z"
      },
      "source": [
        "# define tokenizer with num_words and oov_token\r\n",
        "tokenizer = Tokenizer(num_words=100, oov_token='<OOV>')\r\n",
        "\r\n",
        "# call fit_on_texts to sentences\r\n",
        "tokenizer.fit_on_texts(sentences)"
      ],
      "execution_count": 6,
      "outputs": []
    },
    {
      "cell_type": "markdown",
      "metadata": {
        "id": "xs3H1VN6JDzn"
      },
      "source": [
        "Now, we can test the new tokenizer with OOV argument on a test sentences with un-seen tokens in the training."
      ]
    }
  ]
}