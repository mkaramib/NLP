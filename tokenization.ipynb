{
  "nbformat": 4,
  "nbformat_minor": 0,
  "metadata": {
    "colab": {
      "name": "tokenization.ipynb",
      "provenance": [],
      "toc_visible": true,
      "authorship_tag": "ABX9TyOBh+0X0SVaT/lDN/Ekvtr0",
      "include_colab_link": true
    },
    "kernelspec": {
      "name": "python3",
      "display_name": "Python 3"
    }
  },
  "cells": [
    {
      "cell_type": "markdown",
      "metadata": {
        "id": "view-in-github",
        "colab_type": "text"
      },
      "source": [
        "<a href=\"https://colab.research.google.com/github/mkaramib/nlp/blob/main/tokenization.ipynb\" target=\"_parent\"><img src=\"https://colab.research.google.com/assets/colab-badge.svg\" alt=\"Open In Colab\"/></a>"
      ]
    },
    {
      "cell_type": "markdown",
      "metadata": {
        "id": "CBkB6vuOFM1F"
      },
      "source": [
        "# Tokenization\r\n",
        "Tokenization is the first key part of any NLP processes. In this notebook, various ways of tokenizations are explained. \r\n"
      ]
    },
    {
      "cell_type": "markdown",
      "metadata": {
        "id": "9aUaWDfpMnMW"
      },
      "source": [
        "## TensorFlow\r\n",
        "Tensorflow provides tokenization as the following:"
      ]
    },
    {
      "cell_type": "code",
      "metadata": {
        "id": "j2wRaaEAFGjP"
      },
      "source": [
        "import tensorflow as tf\r\n",
        "from tensorflow import keras\r\n",
        "from tensorflow.keras.preprocessing.text import Tokenizer\r\n",
        "from tensorflow.keras.preprocessing.sequence import pad_sequences"
      ],
      "execution_count": 1,
      "outputs": []
    },
    {
      "cell_type": "code",
      "metadata": {
        "id": "BdrLa_qOF6Io"
      },
      "source": [
        "# define some sentences\r\n",
        "train_sentences = ['This is a test sentence for tekonization.', 'Tensor flow provides tokenization.', 'Machine learning is growing rapidly.']\r\n",
        "\r\n",
        "# test sentences\r\n",
        "test_sentences = ['NLP is a filed of machine learning.']"
      ],
      "execution_count": 2,
      "outputs": []
    },
    {
      "cell_type": "code",
      "metadata": {
        "id": "ibKKdTYrGXnl"
      },
      "source": [
        "# instantiate tokenizar\r\n",
        "tokenizer = Tokenizer()\r\n",
        "\r\n",
        "# call the fit_on_texts and pass the sentences\r\n",
        "tokenizer.fit_on_texts(train_sentences)"
      ],
      "execution_count": 4,
      "outputs": []
    },
    {
      "cell_type": "markdown",
      "metadata": {
        "id": "N9njio4XMJFJ"
      },
      "source": [
        "### Word Indexes\r\n",
        "Tokenizer provides the attribute of *word_index* which provides the indexes assigned to the tokens in the training texts."
      ]
    },
    {
      "cell_type": "code",
      "metadata": {
        "colab": {
          "base_uri": "https://localhost:8080/"
        },
        "id": "zEiOVr0sHQ6K",
        "outputId": "49ad6ab2-5709-4601-8d18-286b7a700c50"
      },
      "source": [
        "# get word indices\r\n",
        "word_indices = tokenizer.word_index\r\n",
        "print(f'word indixes = {word_indices}')"
      ],
      "execution_count": 5,
      "outputs": [
        {
          "output_type": "stream",
          "text": [
            "word indixes = {'is': 1, 'this': 2, 'a': 3, 'test': 4, 'sentence': 5, 'for': 6, 'tekonization': 7, 'tensor': 8, 'flow': 9, 'provides': 10, 'tokenization': 11, 'machine': 12, 'learning': 13, 'growing': 14, 'rapidly': 15}\n"
          ],
          "name": "stdout"
        }
      ]
    },
    {
      "cell_type": "markdown",
      "metadata": {
        "id": "aNzjAAQfMhlK"
      },
      "source": [
        "### Vectorize the text\r\n",
        "Tokenizer provides some methods to vectorize the given text."
      ]
    },
    {
      "cell_type": "code",
      "metadata": {
        "colab": {
          "base_uri": "https://localhost:8080/"
        },
        "id": "7CcBWJHANAhK",
        "outputId": "07292453-654a-49b4-8e88-76c66e9c6604"
      },
      "source": [
        "# vectorize the text(convert the given text into list of index)\r\n",
        "print(f'vectors of training_sentences = {tokenizer.texts_to_sequences(train_sentences)}')\r\n",
        "\r\n",
        "# vectorize the test sentences\r\n",
        "print(f'vectors of test sentences = {tokenizer.texts_to_sequences(test_sentences)}')"
      ],
      "execution_count": 6,
      "outputs": [
        {
          "output_type": "stream",
          "text": [
            "vectors of training_sentences = [[2, 1, 3, 4, 5, 6, 7], [8, 9, 10, 11], [12, 13, 1, 14, 15]]\n",
            "vectors of test sentences = [[1, 3, 12, 13]]\n"
          ],
          "name": "stdout"
        }
      ]
    },
    {
      "cell_type": "markdown",
      "metadata": {
        "id": "9s86_HKdGvXp"
      },
      "source": [
        "### Limit the Vocabulary\r\n",
        "If the content is long, we can only tokenize the most frequent terms using a *num_words* argument to the Tokenizer as the following:\r\n",
        "\r\n",
        "tokenizer = Tokenizer(num_words = 100)"
      ]
    },
    {
      "cell_type": "markdown",
      "metadata": {
        "id": "3wOEezFjicpg"
      },
      "source": [
        "### Out Of Vocabulary(OOV)\r\n",
        "Out Of Vocabulary (OOV) token is another issue in NLP processes that must be considered. Tensorflow provides an option to deal with it using *oov_token* argument of Tokenizer as the following:\r\n",
        "\r\n",
        "tokenizer = Tokenizer(oov_token='<OOV>')"
      ]
    },
    {
      "cell_type": "code",
      "metadata": {
        "id": "zq4APLgJIh6z",
        "outputId": "22794f49-c3e9-481b-edb3-fe9a47766fb1",
        "colab": {
          "base_uri": "https://localhost:8080/"
        }
      },
      "source": [
        "# define tokenizer with num_words and oov_token\r\n",
        "tokenizer = Tokenizer(num_words=100, oov_token='<OOV>')\r\n",
        "\r\n",
        "# call fit_on_texts to sentences\r\n",
        "tokenizer.fit_on_texts(train_sentences)\r\n",
        "\r\n",
        "# get word indices\r\n",
        "word_indices = tokenizer.word_index\r\n",
        "print(f'word indixes = {word_indices}')"
      ],
      "execution_count": 9,
      "outputs": [
        {
          "output_type": "stream",
          "text": [
            "word indixes = {'<OOV>': 1, 'is': 2, 'this': 3, 'a': 4, 'test': 5, 'sentence': 6, 'for': 7, 'tekonization': 8, 'tensor': 9, 'flow': 10, 'provides': 11, 'tokenization': 12, 'machine': 13, 'learning': 14, 'growing': 15, 'rapidly': 16}\n"
          ],
          "name": "stdout"
        }
      ]
    },
    {
      "cell_type": "markdown",
      "metadata": {
        "id": "xs3H1VN6JDzn"
      },
      "source": [
        "Now, we can test the new tokenizer with OOV argument on a test sentences with un-seen tokens in the training. The index for *OOV* is 1, so in the result sequence, 1 means that the token is not seen in the training process."
      ]
    },
    {
      "cell_type": "code",
      "metadata": {
        "id": "EDUnNRGdBbmG",
        "outputId": "3183467a-0150-4335-b07e-dc6e62f02641",
        "colab": {
          "base_uri": "https://localhost:8080/"
        }
      },
      "source": [
        "# run the tokenizer on the test sentence\r\n",
        "tests_sequences = tokenizer.texts_to_sequences(test_sentences)\r\n",
        "print(f'vectorized test sentence = {tests_sequences}')"
      ],
      "execution_count": 12,
      "outputs": [
        {
          "output_type": "stream",
          "text": [
            "vectorized test sentence = [[1, 2, 4, 1, 1, 13, 14]]\n"
          ],
          "name": "stdout"
        }
      ]
    },
    {
      "cell_type": "markdown",
      "metadata": {
        "id": "zxXfHMiCBwOS"
      },
      "source": [
        "### Padding\r\n",
        "Another pre-process in most of NLP component is to make the inputs equal-length. Padding is a technique for this purpose. \r\n",
        "\r\n",
        "Tensorflow provides *pad_sequences* function which can get some arguments such as *maxlen* as well as *padding* to define where the padding must be added, *pre* or *post*. \r\n",
        "\r\n",
        "The default position for the padding is *pre* which means padding process adds 0 to the start of sentence."
      ]
    },
    {
      "cell_type": "code",
      "metadata": {
        "id": "VqnImw0tCnNG",
        "outputId": "5171c10f-28b3-4cae-d9c2-be2917330861",
        "colab": {
          "base_uri": "https://localhost:8080/"
        }
      },
      "source": [
        "# padded the sentence, the default \r\n",
        "padded = pad_sequences(tests_sequences, maxlen=10)\r\n",
        "\r\n",
        "# print padded \r\n",
        "print(f'Padded sequence = {padded}')"
      ],
      "execution_count": 14,
      "outputs": [
        {
          "output_type": "stream",
          "text": [
            "Padded sequence = [[ 0  0  0  1  2  4  1  1 13 14]]\n"
          ],
          "name": "stdout"
        }
      ]
    },
    {
      "cell_type": "markdown",
      "metadata": {
        "id": "wccAt4BLEaiT"
      },
      "source": [
        "It is also possible to add the padding after the sequence using *post* as the *padding* argument of the pad_sequences() method."
      ]
    },
    {
      "cell_type": "code",
      "metadata": {
        "id": "6nl5KP5IEnHz",
        "outputId": "75c04d74-5607-4f10-f2e5-1a9bb22f5d22",
        "colab": {
          "base_uri": "https://localhost:8080/"
        }
      },
      "source": [
        "# padded the sentence, the default \r\n",
        "padded = pad_sequences(tests_sequences, maxlen=10, padding='post')\r\n",
        "\r\n",
        "# print padded \r\n",
        "print(f'Padded sequence = {padded}')"
      ],
      "execution_count": 15,
      "outputs": [
        {
          "output_type": "stream",
          "text": [
            "Padded sequence = [[ 1  2  4  1  1 13 14  0  0  0]]\n"
          ],
          "name": "stdout"
        }
      ]
    }
  ]
}