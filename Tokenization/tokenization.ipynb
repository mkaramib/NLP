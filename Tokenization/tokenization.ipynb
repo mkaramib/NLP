{
  "nbformat": 4,
  "nbformat_minor": 0,
  "metadata": {
    "colab": {
      "name": "tokenization.ipynb",
      "provenance": [],
      "toc_visible": true,
      "authorship_tag": "ABX9TyMfn1yB5M9KN5ru7H7kYuLq",
      "include_colab_link": true
    },
    "kernelspec": {
      "name": "python3",
      "display_name": "Python 3"
    }
  },
  "cells": [
    {
      "cell_type": "markdown",
      "metadata": {
        "id": "view-in-github",
        "colab_type": "text"
      },
      "source": [
        "<a href=\"https://colab.research.google.com/github/mkaramib/nlp/blob/main/tokenization.ipynb\" target=\"_parent\"><img src=\"https://colab.research.google.com/assets/colab-badge.svg\" alt=\"Open In Colab\"/></a>"
      ]
    },
    {
      "cell_type": "markdown",
      "metadata": {
        "id": "CBkB6vuOFM1F"
      },
      "source": [
        "# Tokenization\r\n",
        "Tokenization is the first key part of any NLP processes. In this notebook, various ways of tokenizations are explained. \r\n"
      ]
    },
    {
      "cell_type": "markdown",
      "metadata": {
        "id": "9aUaWDfpMnMW"
      },
      "source": [
        "## TensorFlow\r\n",
        "Tensorflow provides tokenization as the following:"
      ]
    },
    {
      "cell_type": "code",
      "metadata": {
        "id": "j2wRaaEAFGjP"
      },
      "source": [
        "import tensorflow as tf\r\n",
        "from tensorflow import keras\r\n",
        "from tensorflow.keras.preprocessing.text import Tokenizer\r\n",
        "from tensorflow.keras.preprocessing.sequence import pad_sequences"
      ],
      "execution_count": 1,
      "outputs": []
    },
    {
      "cell_type": "code",
      "metadata": {
        "id": "BdrLa_qOF6Io"
      },
      "source": [
        "# define some sentences\r\n",
        "train_sentences = ['This is a test sentence for tekonization.', 'Tensor flow provides tokenization.', 'Machine learning is growing rapidly.']\r\n",
        "\r\n",
        "# test sentences\r\n",
        "test_sentences = ['NLP is a field of machine learning.']"
      ],
      "execution_count": 2,
      "outputs": []
    },
    {
      "cell_type": "code",
      "metadata": {
        "id": "ibKKdTYrGXnl"
      },
      "source": [
        "# instantiate tokenizar\r\n",
        "tokenizer = Tokenizer()\r\n",
        "\r\n",
        "# call the fit_on_texts and pass the sentences\r\n",
        "tokenizer.fit_on_texts(train_sentences)"
      ],
      "execution_count": 4,
      "outputs": []
    },
    {
      "cell_type": "markdown",
      "metadata": {
        "id": "N9njio4XMJFJ"
      },
      "source": [
        "### Word Indexes\r\n",
        "Tokenizer provides the attribute of *word_index* which provides the indexes assigned to the tokens in the training texts."
      ]
    },
    {
      "cell_type": "code",
      "metadata": {
        "id": "zEiOVr0sHQ6K"
      },
      "source": [
        "# get word indices\r\n",
        "word_indices = tokenizer.word_index\r\n",
        "print(f'word indixes = {word_indices}')"
      ],
      "execution_count": null,
      "outputs": []
    },
    {
      "cell_type": "markdown",
      "metadata": {
        "id": "aNzjAAQfMhlK"
      },
      "source": [
        "### Vectorize the text\r\n",
        "Tokenizer provides some methods to vectorize the given text."
      ]
    },
    {
      "cell_type": "code",
      "metadata": {
        "id": "7CcBWJHANAhK"
      },
      "source": [
        "# vectorize the text(convert the given text into list of index)\r\n",
        "print(f'vectors of training_sentences = {tokenizer.texts_to_sequences(train_sentences)}')\r\n",
        "\r\n",
        "# vectorize the test sentences\r\n",
        "print(f'vectors of test sentences = {tokenizer.texts_to_sequences(test_sentences)}')"
      ],
      "execution_count": null,
      "outputs": []
    },
    {
      "cell_type": "markdown",
      "metadata": {
        "id": "9s86_HKdGvXp"
      },
      "source": [
        "### Limit the Vocabulary\r\n",
        "If the content is long, we can only tokenize the most frequent terms using a *num_words* argument to the Tokenizer as the following:\r\n",
        "\r\n",
        "tokenizer = Tokenizer(num_words = 100)"
      ]
    },
    {
      "cell_type": "markdown",
      "metadata": {
        "id": "3wOEezFjicpg"
      },
      "source": [
        "### Out Of Vocabulary(OOV)\r\n",
        "Out Of Vocabulary (OOV) token is another issue in NLP processes that must be considered. Tensorflow provides an option to deal with it using *oov_token* argument of Tokenizer as the following:\r\n",
        "\r\n",
        "tokenizer = Tokenizer(oov_token='<OOV>')"
      ]
    },
    {
      "cell_type": "code",
      "metadata": {
        "id": "zq4APLgJIh6z"
      },
      "source": [
        "# define tokenizer with num_words and oov_token\r\n",
        "tokenizer = Tokenizer(num_words=100, oov_token='<OOV>')\r\n",
        "\r\n",
        "# call fit_on_texts to sentences\r\n",
        "tokenizer.fit_on_texts(train_sentences)\r\n",
        "\r\n",
        "# get word indices\r\n",
        "word_indices = tokenizer.word_index\r\n",
        "print(f'word indixes = {word_indices}')"
      ],
      "execution_count": null,
      "outputs": []
    },
    {
      "cell_type": "markdown",
      "metadata": {
        "id": "xs3H1VN6JDzn"
      },
      "source": [
        "Now, we can test the new tokenizer with OOV argument on a test sentences with un-seen tokens in the training. The index for *OOV* is 1, so in the result sequence, 1 means that the token is not seen in the training process."
      ]
    },
    {
      "cell_type": "code",
      "metadata": {
        "id": "EDUnNRGdBbmG"
      },
      "source": [
        "# run the tokenizer on the test sentence\r\n",
        "tests_sequences = tokenizer.texts_to_sequences(test_sentences)\r\n",
        "print(f'vectorized test sentence = {tests_sequences}')"
      ],
      "execution_count": null,
      "outputs": []
    },
    {
      "cell_type": "markdown",
      "metadata": {
        "id": "zxXfHMiCBwOS"
      },
      "source": [
        "### Padding\r\n",
        "Another pre-process in most of NLP component is to make the inputs equal-length. Padding is a technique for this purpose. \r\n",
        "\r\n",
        "Tensorflow provides *pad_sequences* function which can get some arguments such as *maxlen* as well as *padding* to define where the padding must be added, *pre* or *post*. \r\n",
        "\r\n",
        "The default position for the padding is *pre* which means padding process adds 0 to the start of sentence."
      ]
    },
    {
      "cell_type": "code",
      "metadata": {
        "id": "VqnImw0tCnNG"
      },
      "source": [
        "# padded the sentence, the default \r\n",
        "padded = pad_sequences(tests_sequences, maxlen=10)\r\n",
        "\r\n",
        "# print padded \r\n",
        "print(f'Padded sequence = {padded}')"
      ],
      "execution_count": null,
      "outputs": []
    },
    {
      "cell_type": "markdown",
      "metadata": {
        "id": "wccAt4BLEaiT"
      },
      "source": [
        "It is also possible to add the padding after the sequence using *post* as the *padding* argument of the pad_sequences() method."
      ]
    },
    {
      "cell_type": "code",
      "metadata": {
        "id": "6nl5KP5IEnHz"
      },
      "source": [
        "# padded the sentence, the default \r\n",
        "padded = pad_sequences(tests_sequences, maxlen=10, padding='post')\r\n",
        "\r\n",
        "# print padded \r\n",
        "print(f'Padded sequence = {padded}')"
      ],
      "execution_count": null,
      "outputs": []
    },
    {
      "cell_type": "markdown",
      "metadata": {
        "id": "uJN_1YtAHakQ"
      },
      "source": [
        "## NLTK\r\n",
        "NLTK is a NLP toolkit that provides pre-processing steps of NLP processes such as tokenization, stopwords, etc. \r\n",
        "\r\n"
      ]
    },
    {
      "cell_type": "code",
      "metadata": {
        "id": "gZZZ932eIYBs"
      },
      "source": [
        "# import nltk tokenize and stopwords\r\n",
        "import nltk\r\n",
        "from nltk.tokenize import word_tokenize\r\n",
        "from nltk.corpus import stopwords"
      ],
      "execution_count": 18,
      "outputs": []
    },
    {
      "cell_type": "markdown",
      "metadata": {
        "id": "GuqVPJvWIlOV"
      },
      "source": [
        "### Initialize\r\n",
        "It is required to initialize the NLTk tokenizer and stopwords. Following lines show these step for English language. "
      ]
    },
    {
      "cell_type": "code",
      "metadata": {
        "id": "_s9QjKskI1PO"
      },
      "source": [
        "# initialize\r\n",
        "nltk.download('punkt')\r\n",
        "nltk.download('stopwords')\r\n",
        "stop_words = set(stopwords.words('english'))"
      ],
      "execution_count": null,
      "outputs": []
    },
    {
      "cell_type": "markdown",
      "metadata": {
        "id": "Y90ZJ1FBI_2N"
      },
      "source": [
        "### Tokenize and Stopwords\r\n",
        "Following lines shows how to run the tokenization and stopwords removal."
      ]
    },
    {
      "cell_type": "code",
      "metadata": {
        "id": "mmVD300pJSwS"
      },
      "source": [
        "# define the sentence\r\n",
        "temp_setences = 'NLP is a field of machine learning.'\r\n",
        "\r\n",
        "# tokenize\r\n",
        "temp_tokens = word_tokenize(temp_setences)\r\n",
        "print(f'tokens = {temp_tokens} ')\r\n",
        "\r\n",
        "temp_tokens_without_stopwords = [w for w in temp_tokens if w not in stop_words]\r\n",
        "print(f'tokens without stop words = {temp_tokens_without_stopwords}')"
      ],
      "execution_count": null,
      "outputs": []
    },
    {
      "cell_type": "markdown",
      "metadata": {
        "id": "W4Xb-vLtR75i"
      },
      "source": [
        "## Trax\r\n",
        "Trax provides tokenization for NLP processes. "
      ]
    },
    {
      "cell_type": "code",
      "metadata": {
        "id": "cs__wSYmSFtN"
      },
      "source": [
        ""
      ],
      "execution_count": null,
      "outputs": []
    }
  ]
}
